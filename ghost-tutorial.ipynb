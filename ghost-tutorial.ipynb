{
 "cells": [
  {
   "cell_type": "markdown",
   "metadata": {},
   "source": [
    "# GHOST (General Holistic Organism Scripting Tool)"
   ]
  },
  {
   "cell_type": "markdown",
   "metadata": {},
   "source": [
    "# Goals and Vision"
   ]
  },
  {
   "cell_type": "markdown",
   "metadata": {},
   "source": [
    "The design intention of Ghost (the “General Holistic Organism Scripting Tool”) is to allow human authors to script behaviors for artificial characters.   Significant flexibility is desired, e.g. to support\n",
    "* Purely textual chatbots, animated characters, or physical robots\n",
    "* Characters controlled precisely by human-authored rules; or characters with a great deal of autonomy, where human-authored rules serve mainly to tweak parameters and indicate propensities\n",
    "\n",
    "Ghost is envisioned as having both a textual and a graphical user interface.   The textual interface is aimed to have roughly the same level of complexity as ChatScript (on which it is heavily based), meaning that it should be usable by non-programmers who are able to deal with a fairly intricate formal syntax. \n",
    "\n",
    "The GUI is not yet designed at time of writing, but is intended to make Ghost authoring feasible for a broader class of content authors, and to make it easier and more rapid for everyone.   Some brief notes  regarding the envisioned GUI are given at the end of this document."
   ]
  },
  {
   "cell_type": "markdown",
   "metadata": {},
   "source": [
    "# High Level Design"
   ]
  },
  {
   "cell_type": "markdown",
   "metadata": {},
   "source": [
    "Ghost is implemented as a DSL (Domain-Specific Language) within the Scheme shell associated with the OpenCog engine.    Ghost syntax closely resembles (and in most respects is identical to) ChatScript; but the Ghost interpreter is written in Scheme and runs in the OpenCog Scheme shell.   Ghost rules are interpreted into Atoms living in OpenCog’s Atomspace semantic knowledge store, and are executed within OpenCog using the OpenCog Pattern Matcher and Action Selector and associated mechanisms.\n",
    "\n",
    "A Ghost rule has two required parts, a pattern and an action; and an optional third part, a goal or set of goals.   The general semantic is: When the pattern is observed, if the goal is being pursued by the agent, then consider taking the action. If no goal is specified, a generic goal such as “interact with others” is implicitly assumed. A Ghost “script” consists of a set of rules, which may be grouped into files called “topics.”   A topic may have some annotations associated with it, which apply to all the rules in the topic (unless overridden by annotations specific to certain rules.)\n",
    "\n",
    "Both patterns and actions may optionally reference Scheme functions.  (Support for functions written in other languages may be added in a later version.)   An envisioned usage pattern is: Writing Ghost rules and, in coordination with the Ghost rule authoring process, adding new Scheme functions to help the rules do their things.\n",
    "\n",
    "An example simple Ghost rule is:\n",
    "```\n",
    "#goal: (novelty=1)\n",
    "s: ( Hi there ^no_people_around ) Who said that? ^look_around\n",
    "```\n",
    "This rule is somewhat trivial as it lacks variables.   But it shows the basic format; here we have:\n",
    " * Pattern = someone says “Hi there” to the agent, and there are no people around (i.e. the Scheme function no_people_around outputs True)\n",
    " * Action = the agent says “Who said that?” and then invokes the Scheme function look_around\n",
    " * Goal = novelty … so the agent should use this rule when the “novelty” goal is important to it\n",
    " \n",
    "Behind the scenes, the Ghost interpreter uses OpenCog’s Pattern Matcher to match the patterns of its rules to content in OpenCog’s Atomspace knowledge store.  The specifics of this matching are simple now, but are highly customizable and can be made more sophisticated in future versions.\n",
    "\n"
   ]
  },
  {
   "cell_type": "markdown",
   "metadata": {},
   "source": [
    "# Installation\n",
    "**Opencog**\n",
    "\n",
    "Ghost is a module inside [Opencog](https://github.com/opencog/opencog). So install Opencog first.\n",
    "\n",
    "**Relex**\n",
    "\n",
    "[RelEx](https://github.com/opencog/relex) is a dependency parser for the English language. It extracts dependency relations from Link Grammar, and adds some shallow semantic analysis. The primary use of RelEx is as a language input front-end to the OpenCog artificial general intelligence system. Ghost uses relex."
   ]
  },
  {
   "cell_type": "markdown",
   "metadata": {},
   "source": [
    "# Hello in Ghost\n",
    "Open guile shell and import the necessary modules:"
   ]
  },
  {
   "cell_type": "code",
   "execution_count": 1,
   "metadata": {},
   "outputs": [],
   "source": [
    "(use-modules (opencog)\n",
    "             (opencog nlp)\n",
    "             (opencog nlp relex2logic)\n",
    "             (opencog openpsi)\n",
    "             (opencog ghost)\n",
    "             (opencog ghost procedures))"
   ]
  },
  {
   "cell_type": "markdown",
   "metadata": {},
   "source": [
    "Next start the [relex](https://github.com/opencog/relex) server:\n",
    "\n",
    "**Without Docker:**\n",
    "```\n",
    "$ cd /path/to/relex/project/directory/\n",
    "$ ./opencog-server.sh\n",
    "```\n",
    "\n",
    "**With Docker:**   \n",
    "When using docker, inside the started guile shell set the host for the container running relex. This way\n",
    "the relex server will be looked for at the specified IP address instead of the default 127.0.0.1."
   ]
  },
  {
   "cell_type": "code",
   "execution_count": 2,
   "metadata": {},
   "outputs": [
    {
     "data": {
      "text/plain": [
       "172.21.0.2"
      ]
     },
     "execution_count": 2,
     "metadata": {},
     "output_type": "execute_result"
    }
   ],
   "source": [
    "(set-relex-server-host)"
   ]
  },
  {
   "cell_type": "markdown",
   "metadata": {},
   "source": [
    "Parse your rules using `ghost-parse` for single rule or `ghost-parse-file` for files containing rules:"
   ]
  },
  {
   "cell_type": "code",
   "execution_count": 3,
   "metadata": {},
   "outputs": [],
   "source": [
    "(ghost-parse \"u: (hello) hello there! ^keep\")"
   ]
  },
  {
   "cell_type": "markdown",
   "metadata": {},
   "source": [
    "Test the parsed rules using `test-ghost`.\n",
    "When the input doesn't match any pattern:"
   ]
  },
  {
   "cell_type": "code",
   "execution_count": 4,
   "metadata": {},
   "outputs": [
    {
     "data": {
      "text/plain": [
       "()"
      ]
     },
     "execution_count": 4,
     "metadata": {},
     "output_type": "execute_result"
    }
   ],
   "source": [
    "(test-ghost \"hi\")"
   ]
  },
  {
   "cell_type": "markdown",
   "metadata": {},
   "source": [
    "When the input matches the pattern of the previously parsed rule:"
   ]
  },
  {
   "cell_type": "code",
   "execution_count": 5,
   "metadata": {
    "scrolled": true
   },
   "outputs": [
    {
     "data": {
      "text/plain": [
       "((WordNode \"hello\")\n",
       " (WordNode \"there\")\n",
       " (WordNode \"!\")\n",
       ")"
      ]
     },
     "execution_count": 5,
     "metadata": {},
     "output_type": "execute_result"
    }
   ],
   "source": [
    "(test-ghost \"hello\")"
   ]
  },
  {
   "cell_type": "markdown",
   "metadata": {},
   "source": [
    "The result sentence is returned as a list of WordNodes containing the words. To extract the sentence do the following."
   ]
  },
  {
   "cell_type": "code",
   "execution_count": 7,
   "metadata": {},
   "outputs": [
    {
     "data": {
      "text/plain": [
       "(hello there !)"
      ]
     },
     "execution_count": 7,
     "metadata": {},
     "output_type": "execute_result"
    }
   ],
   "source": [
    "(map cog-name (test-ghost \"hello\"))"
   ]
  },
  {
   "cell_type": "markdown",
   "metadata": {},
   "source": [
    "# Design Overview\n",
    "\n",
    "* A GHOST rule is essentially an OpenPsi rule (aka psi-rule), which is an ImplicationLink that can be expressed as\n",
    "```\n",
    "context AND action -> goal\n",
    "```\n",
    "\n",
    "* That is if a pattern or context is matched action is then executed and the goal is said to be achieved.\n",
    "\n",
    "* A goal also has an ugre to express the level of need to achieve that goal.\n",
    "\n",
    "* Ghost rules are organized into topics. Before parsing any rules a topic can be set and all subsequent rules created will belong to that topic until another topic is set or the end of the file is reached. If no topic is set a default topic is used.\n",
    "\n",
    "* When a GHOST rule is being created, it will firstly be passed to a parser for syntax checking and preliminary interpretation. Any rules that is not syntactically correct or with unsupported features will be rejected at this stage.\n",
    "\n",
    "* The parser will then pass the intermediate interpretations (aka terms) to a translator that converts them into OpenCog atoms to be stored in the AtomSpace.\n",
    "\n",
    "* Ghost action selector is responsible for selecting a rule that is applicable to a given context. When a textual input is received, rules that satisfy the given context will first be selected as candidates. A full context evaluation will then be done for each of the candidates. Action selector will pick one of them based on their satisfiability and their truth value. Satisfiability of rules are compared based on the following criteria:\n",
    "   \n",
    "   * Wether a pattern is matched or not\n",
    "   * The strength of the rule's goal\n",
    "   * The urge of the goal\n",
    "   * Importance of the rule (rules just selected are considered less important)\n",
    "   * Whether a rule is in the current topic (priority is given)\n",
    "\n",
    "For example consider two rules with the same pattern but different goal strength:"
   ]
  },
  {
   "cell_type": "code",
   "execution_count": 14,
   "metadata": {},
   "outputs": [],
   "source": [
    "(ghost-parse \"#goal: (goal1=0.5) u: (hi) hi there ^keep\")"
   ]
  },
  {
   "cell_type": "code",
   "execution_count": 15,
   "metadata": {},
   "outputs": [],
   "source": [
    "(ghost-parse \"#goal: (goal1=0.7) u: (hi) hello there ^keep\")"
   ]
  },
  {
   "cell_type": "code",
   "execution_count": 20,
   "metadata": {},
   "outputs": [
    {
     "data": {
      "text/plain": [
       "((WordNode \"hello\")\n",
       " (WordNode \"there\")\n",
       ")"
      ]
     },
     "execution_count": 20,
     "metadata": {},
     "output_type": "execute_result"
    }
   ],
   "source": [
    "(test-ghost \"hi\")"
   ]
  },
  {
   "cell_type": "markdown",
   "metadata": {},
   "source": [
    "The action selector picks the rule with the higher goal strength.\n",
    "\n",
    "* Once a rule is selected it will not be considered again for subsequent inputs unless it is specified otherwise via\n",
    "`^keep` function or `keep` topic feature."
   ]
  },
  {
   "cell_type": "markdown",
   "metadata": {},
   "source": [
    "# Syntax\n",
    "\n",
    "The syntax of GHOST rules is modeled heavily on [ChatScript](https://github.com/bwilcox-1234/ChatScript/blob/master/WIKI/ChatScript-Basic-User-Manual.md#rules). However, GHOST uses several ChatScript features for different purposes than they are normally used in ChatScript; and also contains some additional features."
   ]
  },
  {
   "cell_type": "markdown",
   "metadata": {},
   "source": [
    "## Topic\n",
    "Rules are bundled into topics. All rules after a topic definition will belong to that rule. The topic declares its name, its keywords, and then its rules. It ends with the end of the file or a new topic declaration.\n",
    "\n",
    "```\n",
    "topic: ~NAME features [list of keywords]\n",
    "```"
   ]
  },
  {
   "cell_type": "code",
   "execution_count": 33,
   "metadata": {},
   "outputs": [],
   "source": [
    "(ghost-parse \"topic: ~GREETING [hi hello]\")"
   ]
  },
  {
   "cell_type": "markdown",
   "metadata": {},
   "source": [
    "Now all rules created will be under GREETING topic. If `keep` topic feature is used all rules in the topic can be considered repeatedly by the action selector."
   ]
  },
  {
   "cell_type": "markdown",
   "metadata": {},
   "source": [
    "## Label\n",
    "A rule can optionally be given a label by which it can be referred by other rules or from the guile shell:"
   ]
  },
  {
   "cell_type": "code",
   "execution_count": 35,
   "metadata": {},
   "outputs": [],
   "source": [
    "(ghost-parse \"u: lbl (ghost) Ghost is a behavior scripting tool ^keep\")"
   ]
  },
  {
   "cell_type": "code",
   "execution_count": 36,
   "metadata": {},
   "outputs": [
    {
     "data": {
      "text/plain": [
       "(ImplicationLink (stv 0.9 0.9)\n",
       "   (AndLink\n",
       "      (TrueLink\n",
       "         (ExecutionOutputLink\n",
       "            (GroundedSchemaNode \"scm: ghost-execute-action\")\n",
       "            (ListLink\n",
       "               (WordNode \"Ghost\")\n",
       "               (WordNode \"is\")\n",
       "               (WordNode \"a\")\n",
       "               (WordNode \"behavior\")\n",
       "               (WordNode \"scripting\")\n",
       "               (WordNode \"tool\")\n",
       "            )\n",
       "         )\n",
       "         (PutLink\n",
       "            (StateLink\n",
       "               (AnchorNode \"GHOST Last Executed\")\n",
       "               (VariableNode \"$x\")\n",
       "            )\n",
       "            (ConceptNode \"lbl\")\n",
       "         )\n",
       "         (ExecutionOutputLink\n",
       "            (GroundedSchemaNode \"scm: ghost-record-executed-rule\")\n",
       "            (ListLink\n",
       "               (ConceptNode \"lbl\")\n",
       "            )\n",
       "         )\n",
       "         (PutLink\n",
       "            (StateLink\n",
       "               (AnchorNode \"GHOST Current Topic\")\n",
       "               (VariableNode \"$x\")\n",
       "            )\n",
       "            (ConceptNode \"GHOST GREETING\")\n",
       "         )\n",
       "      )\n",
       "      (SatisfactionLink\n",
       "         (VariableList\n",
       "            (TypedVariableLink\n",
       "               (GlobNode \"wildcard-$12594706500747-nbsUdzdi2haihp2cmlKGTIfZ\")\n",
       "               (TypeSetLink\n",
       "                  (TypeNode \"WordNode\")\n",
       "                  (IntervalLink\n",
       "                     (NumberNode \"0.000000\")\n",
       "                     (NumberNode \"-1.000000\")\n",
       "                  )\n",
       "               )\n",
       "            )\n",
       "            (TypedVariableLink\n",
       "               (GlobNode \"wildcard-$12594706558737-9mNTekKNYUuSAxrmRAtLFkNY\")\n",
       "               (TypeSetLink\n",
       "                  (TypeNode \"WordNode\")\n",
       "                  (IntervalLink\n",
       "                     (NumberNode \"0.000000\")\n",
       "                     (NumberNode \"-1.000000\")\n",
       "                  )\n",
       "               )\n",
       "            )\n",
       "            (TypedVariableLink\n",
       "               (VariableNode \"ghost-$12594706751964-EFaRJoHuUimAfAIeXyVqSWp8\")\n",
       "               (TypeNode \"WordNode\")\n",
       "            )\n",
       "            (TypedVariableLink\n",
       "               (VariableNode \"ghost-$12594706808063-pySU8GvUQehp5Bb6jCnDEzNV\")\n",
       "               (TypeNode \"WordInstanceNode\")\n",
       "            )\n",
       "            (TypedVariableLink\n",
       "               (GlobNode \"wildcard-$12594706914232-SpehuzL6Ra8vHrZ6nktFkqDC\")\n",
       "               (TypeSetLink\n",
       "                  (TypeNode \"WordNode\")\n",
       "                  (IntervalLink\n",
       "                     (NumberNode \"0.000000\")\n",
       "                     (NumberNode \"-1.000000\")\n",
       "                  )\n",
       "               )\n",
       "            )\n",
       "            (TypedVariableLink\n",
       "               (GlobNode \"wildcard-$12594706943943-2bI06i5Za37nWSSx0heJwQqb\")\n",
       "               (TypeSetLink\n",
       "                  (TypeNode \"WordNode\")\n",
       "                  (IntervalLink\n",
       "                     (NumberNode \"0.000000\")\n",
       "                     (NumberNode \"-1.000000\")\n",
       "                  )\n",
       "               )\n",
       "            )\n",
       "            (TypedVariableLink\n",
       "               (VariableNode \"$S\")\n",
       "               (TypeNode \"SentenceNode\")\n",
       "            )\n",
       "            (TypedVariableLink\n",
       "               (VariableNode \"$P\")\n",
       "               (TypeNode \"ParseNode\")\n",
       "            )\n",
       "         )\n",
       "         (AndLink\n",
       "            (ParseLink\n",
       "               (VariableNode \"$P\")\n",
       "               (VariableNode \"$S\")\n",
       "            )\n",
       "            (WordInstanceLink\n",
       "               (VariableNode \"ghost-$12594706808063-pySU8GvUQehp5Bb6jCnDEzNV\")\n",
       "               (VariableNode \"$P\")\n",
       "            )\n",
       "            (EvaluationLink\n",
       "               (PredicateNode \"GHOST Lemma Sequence\")\n",
       "               (ListLink\n",
       "                  (VariableNode \"$S\")\n",
       "                  (ListLink\n",
       "                     (GlobNode \"wildcard-$12594706558737-9mNTekKNYUuSAxrmRAtLFkNY\")\n",
       "                     (WordNode \"ghost\")\n",
       "                     (GlobNode \"wildcard-$12594706943943-2bI06i5Za37nWSSx0heJwQqb\")\n",
       "                  )\n",
       "               )\n",
       "            )\n",
       "            (StateLink\n",
       "               (AnchorNode \"GHOST Currently Processing\")\n",
       "               (VariableNode \"$S\")\n",
       "            )\n",
       "            (EvaluationLink\n",
       "               (PredicateNode \"GHOST Word Sequence\")\n",
       "               (ListLink\n",
       "                  (VariableNode \"$S\")\n",
       "                  (ListLink\n",
       "                     (GlobNode \"wildcard-$12594706500747-nbsUdzdi2haihp2cmlKGTIfZ\")\n",
       "                     (VariableNode \"ghost-$12594706751964-EFaRJoHuUimAfAIeXyVqSWp8\")\n",
       "                     (GlobNode \"wildcard-$12594706914232-SpehuzL6Ra8vHrZ6nktFkqDC\")\n",
       "                  )\n",
       "               )\n",
       "            )\n",
       "            (ReferenceLink\n",
       "               (VariableNode \"ghost-$12594706808063-pySU8GvUQehp5Bb6jCnDEzNV\")\n",
       "               (VariableNode \"ghost-$12594706751964-EFaRJoHuUimAfAIeXyVqSWp8\")\n",
       "            )\n",
       "            (EvaluationLink\n",
       "               (GroundedPredicateNode \"scm: ghost-lemma?\")\n",
       "               (ListLink\n",
       "                  (VariableNode \"ghost-$12594706751964-EFaRJoHuUimAfAIeXyVqSWp8\")\n",
       "                  (WordNode \"ghost\")\n",
       "               )\n",
       "            )\n",
       "         )\n",
       "      )\n",
       "   )\n",
       "   (ConceptNode \"GHOST Default Goal\")\n",
       ")\n"
      ]
     },
     "execution_count": 36,
     "metadata": {},
     "output_type": "execute_result"
    }
   ],
   "source": [
    "(ghost-get-rule \"lbl\")"
   ]
  },
  {
   "cell_type": "markdown",
   "metadata": {},
   "source": [
    "## Goal\n",
    "In a ghost rule the satisfiability of a context followed by execution of the action implies achievement of the given goal. Goal has value (0-1) which indicates the strength of the implication link in the rule. The higher the goal value the more likely that the execution of the action achieves that goal given that the context is satisfied.\n",
    "\n",
    "```\n",
    "context AND action ==> goal\n",
    "```\n",
    "\n",
    "There are two ways of creating goals,\n",
    "\n",
    "**1. Top level goal(s)**"
   ]
  },
  {
   "cell_type": "code",
   "execution_count": 37,
   "metadata": {},
   "outputs": [],
   "source": [
    "(ghost-parse \"goal: (please_user=0.8)\")"
   ]
  },
  {
   "cell_type": "markdown",
   "metadata": {},
   "source": [
    "In this case, all the rules created after it will be having the same goal and the same weight, until another top level goal or the end of file is reached. For example the following rule uses the above top level goal."
   ]
  },
  {
   "cell_type": "code",
   "execution_count": 38,
   "metadata": {},
   "outputs": [],
   "source": [
    "(ghost-parse \"u: lbl1 (hello) Hello sweet wonderful human\")"
   ]
  },
  {
   "cell_type": "markdown",
   "metadata": {},
   "source": [
    "`ghost-rule-tv` returns the truth value of the implication link as `stv mean confidence`. The mean value is the strength of the goal."
   ]
  },
  {
   "cell_type": "code",
   "execution_count": 40,
   "metadata": {},
   "outputs": [
    {
     "data": {
      "text/plain": [
       "(stv 0.800000 0.900000)"
      ]
     },
     "execution_count": 40,
     "metadata": {},
     "output_type": "execute_result"
    }
   ],
   "source": [
    "(ghost-rule-tv \"lbl1\")"
   ]
  },
  {
   "cell_type": "markdown",
   "metadata": {},
   "source": [
    "It is also possible to create a list of rules that are ordered."
   ]
  },
  {
   "cell_type": "code",
   "execution_count": 43,
   "metadata": {},
   "outputs": [],
   "source": [
    "(ghost-parse \"ordered-goal: (please_user=0.8)\")"
   ]
  },
  {
   "cell_type": "markdown",
   "metadata": {},
   "source": [
    "The rules being created under ordered-goals will have a different weight, based on the order of creation. The relationship between the order and the weight forms a geometric sequence with a factor of 0.5.\n",
    "\n",
    "For example, if there are five rules under the above please_user=0.8 goal, the first rule will have a weight of 0.4, the second one will have 0.2, the third one will have 0.1, and so on. The sum of the weights will get closer to the weight of the top level goal (0.8) if more rules are created under it."
   ]
  },
  {
   "cell_type": "markdown",
   "metadata": {},
   "source": [
    "**2. Rule level goal(s)**\n",
    "In this case, the goals will only be linked to the rule created immediately after it. Top level goals will also be linked to the rule if there are any. A top level goal will be overwritten by a rule level goal if the same goal is defined. Any number of rule level goals can be specified inside the goal declaration parenthesis."
   ]
  },
  {
   "cell_type": "code",
   "execution_count": 54,
   "metadata": {},
   "outputs": [],
   "source": [
    "(ghost-parse \"#goal: (novelty=0.67 please_user=0.4) u: (what be you name) I forgot\")"
   ]
  },
  {
   "cell_type": "code",
   "execution_count": 55,
   "metadata": {},
   "outputs": [
    {
     "data": {
      "text/plain": [
       "(I forgot)"
      ]
     },
     "execution_count": 55,
     "metadata": {},
     "output_type": "execute_result"
    }
   ],
   "source": [
    "(map cog-name (test-ghost \"what is your name\"))"
   ]
  },
  {
   "cell_type": "markdown",
   "metadata": {},
   "source": [
    "## Urge\n",
    "A goal can have an urge to express the level of urgency to achive that goal. Tweaking the urge value of a goal affects the chances of corresponding rules to be selected by the action selector. If the urge of a goal is increased corresponding rules will be more likely to be selected and vise versa. \n",
    "\n",
    "The urge of a goal is 1 (maximum) by default. The default urge can be changed, and it should be done before creating the goal, for example:"
   ]
  },
  {
   "cell_type": "code",
   "execution_count": 56,
   "metadata": {},
   "outputs": [],
   "source": [
    "(ghost-parse \"urge: (tease_user=1 creativity=0.5)\")"
   ]
  },
  {
   "cell_type": "markdown",
   "metadata": {},
   "source": [
    "The urge value of the goal can be changed via OpenPsi function `psi-increase-urge GOAL VALUE` and `psi-decrease-urge GOAL VALUE`"
   ]
  },
  {
   "cell_type": "markdown",
   "metadata": {},
   "source": [
    "## Lemma"
   ]
  },
  {
   "cell_type": "markdown",
   "metadata": {},
   "source": [
    "## Phrase"
   ]
  },
  {
   "cell_type": "markdown",
   "metadata": {},
   "source": [
    "## Concept"
   ]
  },
  {
   "cell_type": "markdown",
   "metadata": {},
   "source": [
    "## Choice"
   ]
  },
  {
   "cell_type": "markdown",
   "metadata": {},
   "source": [
    "## Optional"
   ]
  },
  {
   "cell_type": "markdown",
   "metadata": {},
   "source": [
    "## Indefinite Wildcard"
   ]
  },
  {
   "cell_type": "markdown",
   "metadata": {},
   "source": [
    "## Precise Wildcard"
   ]
  },
  {
   "cell_type": "markdown",
   "metadata": {},
   "source": [
    "## Range-restricted Wildcard"
   ]
  },
  {
   "cell_type": "markdown",
   "metadata": {},
   "source": [
    "## Variable"
   ]
  },
  {
   "cell_type": "markdown",
   "metadata": {},
   "source": [
    "## User Variable"
   ]
  },
  {
   "cell_type": "markdown",
   "metadata": {},
   "source": [
    "## Sentence Boundary"
   ]
  },
  {
   "cell_type": "markdown",
   "metadata": {},
   "source": [
    "## Negation"
   ]
  },
  {
   "cell_type": "markdown",
   "metadata": {},
   "source": [
    "## Function"
   ]
  },
  {
   "cell_type": "markdown",
   "metadata": {},
   "source": [
    "## Unordered Matching"
   ]
  },
  {
   "cell_type": "markdown",
   "metadata": {},
   "source": [
    "## Rejoinder"
   ]
  },
  {
   "cell_type": "code",
   "execution_count": null,
   "metadata": {},
   "outputs": [],
   "source": []
  }
 ],
 "metadata": {
  "kernelspec": {
   "display_name": "Guile",
   "language": "scheme",
   "name": "guile-kernel"
  },
  "language_info": {
   "codemirror_mode": "scheme",
   "file_extension": ".scm",
   "mimetype": "application/x-scheme",
   "name": "guile",
   "pygments_lexer": "scheme",
   "version": "2.0.0"
  }
 },
 "nbformat": 4,
 "nbformat_minor": 2
}
